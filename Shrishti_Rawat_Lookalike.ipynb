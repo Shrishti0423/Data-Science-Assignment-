{
 "cells": [
  {
   "cell_type": "code",
   "execution_count": 8,
   "id": "fc721734-46d3-4382-8c21-c9f9c1db75c1",
   "metadata": {},
   "outputs": [
    {
     "name": "stdout",
     "output_type": "stream",
     "text": [
      "  CustomerID      CustomerName         Region  SignupDate TransactionID  \\\n",
      "0      C0001  Lawrence Carroll  South America  2022-07-10        T00015   \n",
      "1      C0001  Lawrence Carroll  South America  2022-07-10        T00932   \n",
      "2      C0001  Lawrence Carroll  South America  2022-07-10        T00085   \n",
      "3      C0001  Lawrence Carroll  South America  2022-07-10        T00445   \n",
      "4      C0001  Lawrence Carroll  South America  2022-07-10        T00436   \n",
      "\n",
      "  ProductID      TransactionDate  Quantity  TotalValue   Price  \n",
      "0      P054  2024-01-19 03:12:55       2.0      114.60   57.30  \n",
      "1      P022  2024-09-17 09:01:18       3.0      412.62  137.54  \n",
      "2      P096  2024-04-08 00:01:00       2.0      614.94  307.47  \n",
      "3      P083  2024-05-07 03:11:44       2.0      911.44  455.72  \n",
      "4      P029  2024-11-02 17:04:16       3.0     1300.92  433.64  \n"
     ]
    }
   ],
   "source": [
    "import pandas as pd\n",
    "from sklearn.preprocessing import StandardScaler\n",
    "\n",
    "# Load the customer and transaction data\n",
    "customers = pd.read_csv(\"Customers.csv\")\n",
    "transactions = pd.read_csv(\"Transactions.csv\")\n",
    "\n",
    "# Merge customer data with transaction data based on 'CustomerID'\n",
    "combined_data = pd.merge(customers, transactions, on=\"CustomerID\", how=\"left\")\n",
    "\n",
    "# Preview combined data\n",
    "print(combined_data.head())\n",
    "\n",
    "\n"
   ]
  },
  {
   "cell_type": "code",
   "execution_count": 7,
   "id": "8bcec1cd-e114-4503-a121-fc0c7e30707f",
   "metadata": {},
   "outputs": [
    {
     "name": "stdout",
     "output_type": "stream",
     "text": [
      "Index(['CustomerID', 'CustomerName', 'Region', 'SignupDate'], dtype='object')\n",
      "Index(['TransactionID', 'CustomerID', 'ProductID', 'TransactionDate',\n",
      "       'Quantity', 'TotalValue', 'Price'],\n",
      "      dtype='object')\n"
     ]
    }
   ],
   "source": [
    "print(customers.columns)\n",
    "print(transactions.columns)"
   ]
  },
  {
   "cell_type": "code",
   "execution_count": 9,
   "id": "b3f43e22-1ff8-41db-bedd-2cfb1f158af4",
   "metadata": {},
   "outputs": [
    {
     "name": "stdout",
     "output_type": "stream",
     "text": [
      "  CustomerID  TotalSpent  PurchaseFrequency\n",
      "0      C0001     3354.52                  5\n",
      "1      C0002     1862.74                  4\n",
      "2      C0003     2725.38                  4\n",
      "3      C0004     5354.88                  8\n",
      "4      C0005     2034.24                  3\n"
     ]
    }
   ],
   "source": [
    "# Calculate TotalSpent and PurchaseFrequency per customer\n",
    "# Group by 'CustomerID' and aggregate TotalValue for TotalSpent and count transactions for PurchaseFrequency\n",
    "customer_features = combined_data.groupby('CustomerID').agg(\n",
    "    TotalSpent=('TotalValue', 'sum'),\n",
    "    PurchaseFrequency=('TransactionID', 'count')\n",
    ").reset_index()\n",
    "\n",
    "# Preview customer features\n",
    "print(customer_features.head())\n",
    "\n",
    "\n"
   ]
  },
  {
   "cell_type": "code",
   "execution_count": 10,
   "id": "481710ad-ba06-450e-b780-cb32a6fc52ac",
   "metadata": {},
   "outputs": [
    {
     "name": "stdout",
     "output_type": "stream",
     "text": [
      "  CustomerID  TotalSpent  PurchaseFrequency\n",
      "0      C0001   -0.051884           0.000000\n",
      "1      C0002   -0.862714          -0.451294\n",
      "2      C0003   -0.393842          -0.451294\n",
      "3      C0004    1.035375           1.353881\n",
      "4      C0005   -0.769499          -0.902587\n"
     ]
    }
   ],
   "source": [
    "# Normalize the 'TotalSpent' and 'PurchaseFrequency' features\n",
    "scaler = StandardScaler()\n",
    "customer_features[['TotalSpent', 'PurchaseFrequency']] = scaler.fit_transform(\n",
    "    customer_features[['TotalSpent', 'PurchaseFrequency']]\n",
    ")\n",
    "\n",
    "# Preview the scaled data\n",
    "print(customer_features.head())\n"
   ]
  },
  {
   "cell_type": "code",
   "execution_count": 11,
   "id": "52b55fd0-0ff2-4888-bde5-dbc0455239d0",
   "metadata": {},
   "outputs": [
    {
     "name": "stdout",
     "output_type": "stream",
     "text": [
      "[[ 1.          0.88608652  0.65752069 -0.60747019  0.64877318]\n",
      " [ 0.88608652  1.          0.93185301 -0.90646468  0.92759938]\n",
      " [ 0.65752069  0.93185301  1.         -0.99791082  0.99993327]\n",
      " [-0.60747019 -0.90646468 -0.99791082  1.         -0.99859057]\n",
      " [ 0.64877318  0.92759938  0.99993327 -0.99859057  1.        ]]\n"
     ]
    }
   ],
   "source": [
    "from sklearn.metrics.pairwise import cosine_similarity\n",
    "\n",
    "# Calculate cosine similarity between customers\n",
    "similarity_matrix = cosine_similarity(customer_features[['TotalSpent', 'PurchaseFrequency']])\n",
    "\n",
    "# Preview the similarity matrix (optional)\n",
    "print(similarity_matrix[:5, :5])  # Print the top-left 5x5 section of the matrix\n"
   ]
  },
  {
   "cell_type": "code",
   "execution_count": 12,
   "id": "0d31010a-2649-4b86-97ab-e60a9f09aaa7",
   "metadata": {},
   "outputs": [
    {
     "name": "stdout",
     "output_type": "stream",
     "text": [
      "[('C0076', 1.0), ('C0152', 1.0), ('C0164', 1.0)]\n"
     ]
    }
   ],
   "source": [
    "import numpy as np\n",
    "\n",
    "# Create a function to recommend the top N similar customers\n",
    "def recommend_similar_customers(similarity_matrix, customer_index, top_n=3):\n",
    "    # Get the similarity scores for the given customer\n",
    "    similarity_scores = similarity_matrix[customer_index]\n",
    "    \n",
    "    # Get indices of the top N similar customers (excluding the customer itself)\n",
    "    similar_customer_indices = np.argsort(similarity_scores)[::-1][1:top_n+1]\n",
    "    \n",
    "    # Get customer IDs and similarity scores\n",
    "    similar_customers = [(customer_features.iloc[i][\"CustomerID\"], similarity_scores[i]) for i in similar_customer_indices]\n",
    "    \n",
    "    return similar_customers\n",
    "\n",
    "# Example: Recommend top 3 similar customers for the first customer in the dataset\n",
    "top_similar_customers = recommend_similar_customers(similarity_matrix, 0)\n",
    "print(top_similar_customers)\n"
   ]
  },
  {
   "cell_type": "code",
   "execution_count": 13,
   "id": "27139106-5848-46b6-baeb-81f135fca303",
   "metadata": {},
   "outputs": [
    {
     "name": "stdout",
     "output_type": "stream",
     "text": [
      "  CustomerID LookalikeCustomerID  SimilarityScore\n",
      "0      C0001               C0076         1.000000\n",
      "1      C0001               C0152         1.000000\n",
      "2      C0001               C0164         1.000000\n",
      "3      C0002               C0029         0.999816\n",
      "4      C0002               C0199         0.999488\n"
     ]
    }
   ],
   "source": [
    "# Create a mapping of CustomerID to its top N similar customers\n",
    "lookalike_data = {}\n",
    "for idx, row in customer_features.iterrows():\n",
    "    similar_customers = recommend_similar_customers(similarity_matrix, idx)\n",
    "    lookalike_data[row[\"CustomerID\"]] = similar_customers\n",
    "\n",
    "# Convert the results to a DataFrame\n",
    "lookalike_df = pd.DataFrame([(cust_id, similar_cust[0], similar_cust[1]) \n",
    "                             for cust_id, similar_customers in lookalike_data.items() \n",
    "                             for similar_cust in similar_customers],\n",
    "                            columns=[\"CustomerID\", \"LookalikeCustomerID\", \"SimilarityScore\"])\n",
    "\n",
    "# Save to CSV\n",
    "lookalike_df.to_csv(\"Lookalike.csv\", index=False)\n",
    "\n",
    "# Preview the output\n",
    "print(lookalike_df.head())\n"
   ]
  },
  {
   "cell_type": "code",
   "execution_count": null,
   "id": "f954ae15-2f54-42b3-a4cc-5c1a663b3d55",
   "metadata": {},
   "outputs": [],
   "source": []
  }
 ],
 "metadata": {
  "kernelspec": {
   "display_name": "Python 3 (ipykernel)",
   "language": "python",
   "name": "python3"
  },
  "language_info": {
   "codemirror_mode": {
    "name": "ipython",
    "version": 3
   },
   "file_extension": ".py",
   "mimetype": "text/x-python",
   "name": "python",
   "nbconvert_exporter": "python",
   "pygments_lexer": "ipython3",
   "version": "3.12.4"
  }
 },
 "nbformat": 4,
 "nbformat_minor": 5
}
